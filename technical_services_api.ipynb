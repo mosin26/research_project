{
 "cells": [
  {
   "cell_type": "markdown",
   "metadata": {},
   "source": [
    "# Copernicus API"
   ]
  },
  {
   "cell_type": "code",
   "execution_count": 2,
   "metadata": {},
   "outputs": [],
   "source": [
    "import requests"
   ]
  },
  {
   "cell_type": "code",
   "execution_count": 21,
   "metadata": {},
   "outputs": [],
   "source": [
    "r = requests.get('https://scihub.copernicus.eu/dhus/odata/v1/Products?$orderby=IngestionDate desc&$top=2',\n",
    "                auth=('mosin26', 'o411xt1012977'))"
   ]
  },
  {
   "cell_type": "code",
   "execution_count": 22,
   "metadata": {},
   "outputs": [
    {
     "data": {
      "text/plain": [
       "200"
      ]
     },
     "execution_count": 22,
     "metadata": {},
     "output_type": "execute_result"
    }
   ],
   "source": [
    "r.status_code"
   ]
  },
  {
   "cell_type": "code",
   "execution_count": 7,
   "metadata": {},
   "outputs": [
    {
     "data": {
      "text/plain": [
       "{'Server': 'Apache-Coyote/1.1', 'Set-Cookie': 'dhusAuth=9ce09535396a5460d89a1dec71323204; Path=/; HttpOnly, dhusIntegrity=40901c452de62ff732d58fef1c29180fe28bbf9f; Path=/; HttpOnly, JSESSIONID=3F71C228E7E2FC369EE041A524769C17; Path=/; HttpOnly', 'Pragma': 'no-cache', 'DataServiceVersion': '2.0', 'Date': 'Wed, 22 Nov 2017 20:16:13 GMT', 'Content-Type': 'application/metalink4+xml', 'Content-Length': '6144'}"
      ]
     },
     "execution_count": 7,
     "metadata": {},
     "output_type": "execute_result"
    }
   ],
   "source": [
    "r.headers"
   ]
  },
  {
   "cell_type": "code",
   "execution_count": 8,
   "metadata": {},
   "outputs": [],
   "source": [
    "r.encoding"
   ]
  },
  {
   "cell_type": "code",
   "execution_count": 9,
   "metadata": {},
   "outputs": [
    {
     "data": {
      "text/plain": [
       "'<?xml version=\\'1.0\\' encoding=\\'utf-8\\'?><feed xmlns=\"http://www.w3.org/2005/Atom\" xmlns:m=\"http://schemas.microsoft.com/ado/2007/08/dataservices/metadata\" xmlns:d=\"http://schemas.microsoft.com/ado/2007/08/dataservices\" xml:base=\"https://scihub.copernicus.eu/dhus/odata/v1/\"><id>https://scihub.copernicus.eu/dhus/odata/v1/Products</id><title type=\"text\">Products</title><updated>2017-11-22T20:16:13.12Z</updated><author><name/></author><link href=\"Products\" rel=\"self\" title=\"Products\"/><entry><id>https://scihub.copernicus.eu/dhus/odata/v1/Products(\\'475167d3-5db8-4bbf-834a-d32b7385ab10\\')</id><title type=\"text\">S2B_MSIL1C_20171122T050109_N0206_R119_T45SUU_20171122T062044</title><updated>2017-11-22T20:11:54.258Z</updated><category term=\"DHuS.Product\" scheme=\"http://schemas.microsoft.com/ado/2007/08/dataservices/scheme\"/><link href=\"Products(\\'475167d3-5db8-4bbf-834a-d32b7385ab10\\')\" rel=\"edit\" title=\"Product\"/><link href=\"Products(\\'475167d3-5db8-4bbf-834a-d32b7385ab10\\')/$value\" rel=\"edit-media\" type=\"application/octet-stream\"/><link href=\"Products(\\'475167d3-5db8-4bbf-834a-d32b7385ab10\\')/Products\" rel=\"http://schemas.microsoft.com/ado/2007/08/dataservices/related/Products\" title=\"Products\" type=\"application/atom+xml;type=feed\"/><link href=\"Products(\\'475167d3-5db8-4bbf-834a-d32b7385ab10\\')/Nodes\" rel=\"http://schemas.microsoft.com/ado/2007/08/dataservices/related/Nodes\" title=\"Nodes\" type=\"application/atom+xml;type=feed\"/><link href=\"Products(\\'475167d3-5db8-4bbf-834a-d32b7385ab10\\')/Attributes\" rel=\"http://schemas.microsoft.com/ado/2007/08/dataservices/related/Attributes\" title=\"Attributes\" type=\"application/atom+xml;type=feed\"/><link href=\"Products(\\'475167d3-5db8-4bbf-834a-d32b7385ab10\\')/Class\" rel=\"http://schemas.microsoft.com/ado/2007/08/dataservices/related/Class\" title=\"Class\" type=\"application/atom+xml;type=entry\"/><content type=\"application/octet-stream\" src=\"Products(\\'475167d3-5db8-4bbf-834a-d32b7385ab10\\')/$value\"/><m:properties><d:Id>475167d3-5db8-4bbf-834a-d32b7385ab10</d:Id><d:Name>S2B_MSIL1C_20171122T050109_N0206_R119_T45SUU_20171122T062044</d:Name><d:ContentType>application/octet-stream</d:ContentType><d:ContentLength>862093096</d:ContentLength><d:ChildrenNumber>2</d:ChildrenNumber><d:Value m:null=\"true\"/><d:CreationDate>2017-11-22T20:14:02.938</d:CreationDate><d:IngestionDate>2017-11-22T20:11:54.258</d:IngestionDate><d:EvictionDate m:null=\"true\"/><d:ContentDate m:type=\"DHuS.TimeRange\"><d:Start>2017-11-22T05:01:09.027</d:Start><d:End>2017-11-22T05:01:09.027</d:End></d:ContentDate><d:Checksum m:type=\"DHuS.Checksum\"><d:Algorithm>MD5</d:Algorithm><d:Value>6DEA3873672B73AB1018594AC0C142A4</d:Value></d:Checksum><d:ContentGeometry>&lt;gml:Polygon srsName=\"http://www.opengis.net/gml/srs/epsg.xml#4326\" xmlns:gml=\"http://www.opengis.net/gml\">\\n   &lt;gml:outerBoundaryIs>\\n      &lt;gml:LinearRing>\\n         &lt;gml:coordinates>35.223124940967516,84.80245834659526 35.23901758445065,86.0086500490294 34.24900770464395,86.0204080482818 34.233687373898405,84.82850250035735 35.223124940967516,84.80245834659526&lt;/gml:coordinates>\\n      &lt;/gml:LinearRing>\\n   &lt;/gml:outerBoundaryIs>\\n&lt;/gml:Polygon></d:ContentGeometry></m:properties></entry><entry><id>https://scihub.copernicus.eu/dhus/odata/v1/Products(\\'1d38caf3-e19c-4e0c-9638-b16a3142ca23\\')</id><title type=\"text\">S2B_MSIL1C_20171122T050109_N0206_R119_T45TVF_20171122T062044</title><updated>2017-11-22T20:11:51.638Z</updated><category term=\"DHuS.Product\" scheme=\"http://schemas.microsoft.com/ado/2007/08/dataservices/scheme\"/><link href=\"Products(\\'1d38caf3-e19c-4e0c-9638-b16a3142ca23\\')\" rel=\"edit\" title=\"Product\"/><link href=\"Products(\\'1d38caf3-e19c-4e0c-9638-b16a3142ca23\\')/$value\" rel=\"edit-media\" type=\"application/octet-stream\"/><link href=\"Products(\\'1d38caf3-e19c-4e0c-9638-b16a3142ca23\\')/Products\" rel=\"http://schemas.microsoft.com/ado/2007/08/dataservices/related/Products\" title=\"Products\" type=\"application/atom+xml;type=feed\"/><link href=\"Products(\\'1d38caf3-e19c-4e0c-9638-b16a3142ca23\\')/Nodes\" rel=\"http://schemas.microsoft.com/ado/2007/08/dataservices/related/Nodes\" title=\"Nodes\" type=\"application/atom+xml;type=feed\"/><link href=\"Products(\\'1d38caf3-e19c-4e0c-9638-b16a3142ca23\\')/Attributes\" rel=\"http://schemas.microsoft.com/ado/2007/08/dataservices/related/Attributes\" title=\"Attributes\" type=\"application/atom+xml;type=feed\"/><link href=\"Products(\\'1d38caf3-e19c-4e0c-9638-b16a3142ca23\\')/Class\" rel=\"http://schemas.microsoft.com/ado/2007/08/dataservices/related/Class\" title=\"Class\" type=\"application/atom+xml;type=entry\"/><content type=\"application/octet-stream\" src=\"Products(\\'1d38caf3-e19c-4e0c-9638-b16a3142ca23\\')/$value\"/><m:properties><d:Id>1d38caf3-e19c-4e0c-9638-b16a3142ca23</d:Id><d:Name>S2B_MSIL1C_20171122T050109_N0206_R119_T45TVF_20171122T062044</d:Name><d:ContentType>application/octet-stream</d:ContentType><d:ContentLength>551960742</d:ContentLength><d:ChildrenNumber>2</d:ChildrenNumber><d:Value m:null=\"true\"/><d:CreationDate>2017-11-22T20:14:02.361</d:CreationDate><d:IngestionDate>2017-11-22T20:11:51.638</d:IngestionDate><d:EvictionDate m:null=\"true\"/><d:ContentDate m:type=\"DHuS.TimeRange\"><d:Start>2017-11-22T05:01:09.027</d:Start><d:End>2017-11-22T05:01:09.027</d:End></d:ContentDate><d:Checksum m:type=\"DHuS.Checksum\"><d:Algorithm>MD5</d:Algorithm><d:Value>AC78B6400D3688A48A794C355C5D3F92</d:Value></d:Checksum><d:ContentGeometry>&lt;gml:Polygon srsName=\"http://www.opengis.net/gml/srs/epsg.xml#4326\" xmlns:gml=\"http://www.opengis.net/gml\">\\n   &lt;gml:outerBoundaryIs>\\n      &lt;gml:LinearRing>\\n         &lt;gml:coordinates>40.558676922110536,86.24523463784989 40.631397237354925,86.26722663575862 40.77853000989133,86.31212995189557 40.925635831899534,86.35719196366092 41.072754097413785,86.40246567859803 41.219849130805954,86.44805123717681 41.366962675317886,86.49374378799429 41.513900718227525,86.54017852619704 41.549123122947655,86.55146248912544 41.55178511688993,87.11703163438881 40.5626923872254,87.11529156452825 40.558676922110536,86.24523463784989&lt;/gml:coordinates>\\n      &lt;/gml:LinearRing>\\n   &lt;/gml:outerBoundaryIs>\\n&lt;/gml:Polygon></d:ContentGeometry></m:properties></entry></feed>'"
      ]
     },
     "execution_count": 9,
     "metadata": {},
     "output_type": "execute_result"
    }
   ],
   "source": [
    "r.text"
   ]
  },
  {
   "cell_type": "code",
   "execution_count": 46,
   "metadata": {},
   "outputs": [],
   "source": [
    "r = requests.get(\"https://scihub.copernicus.eu/dhus/odata/v1 /Products('290538e7-82c9-410d-a538-de5d9b37e53f')/Nodes('S1A_IW_SLC__1SDV_20171122T045242_20171122T045309_019373_020D8F_3DAF.SAFE')/Nodes('preview')/Nodes('quick-look.png')/$value=\",\n",
    "                auth=('mosin26', 'o411xt1012977'))"
   ]
  },
  {
   "cell_type": "code",
   "execution_count": 47,
   "metadata": {},
   "outputs": [
    {
     "data": {
      "text/plain": [
       "500"
      ]
     },
     "execution_count": 47,
     "metadata": {},
     "output_type": "execute_result"
    }
   ],
   "source": [
    "r.status_code"
   ]
  },
  {
   "cell_type": "code",
   "execution_count": null,
   "metadata": {},
   "outputs": [],
   "source": [
    "https://scihub.copernicus.eu/dhus/odata/v1/Products('5759c814-25d1-4ce6-865d-b8baadc2c31d')/$value"
   ]
  },
  {
   "cell_type": "code",
   "execution_count": null,
   "metadata": {},
   "outputs": [],
   "source": [
    "wget --no-check-certificate --user={USERNAME} --password={PASSWORD} \n",
    "\"https://scihub.copernicus.eu/dhus/odata/v1/Products('{UUID}')/Nodes('{PRODUCT_FILENAME}')/Nodes('manifest.safe')/$value\""
   ]
  },
  {
   "cell_type": "code",
   "execution_count": 30,
   "metadata": {},
   "outputs": [
    {
     "data": {
      "text/plain": [
       "b'<?xml version=\\'1.0\\' encoding=\\'utf-8\\'?><feed xmlns=\"http://www.w3.org/2005/Atom\" xmlns:m=\"http://schemas.microsoft.com/ado/2007/08/dataservices/metadata\" xmlns:d=\"http://schemas.microsoft.com/ado/2007/08/dataservices\" xml:base=\"https://scihub.copernicus.eu/dhus/odata/v1/\"><id>https://scihub.copernicus.eu/dhus/odata/v1/Products</id><title type=\"text\">Products</title><updated>2017-11-22T20:22:46.66Z</updated><author><name/></author><link href=\"Products\" rel=\"self\" title=\"Products\"/><entry><id>https://scihub.copernicus.eu/dhus/odata/v1/Products(\\'9fcbde34-c3d9-4d6d-908b-412397228180\\')</id><title type=\"text\">S1A_IW_SLC__1SDV_20141101T165548_20141101T165616_003091_0038AA_558F</title><updated>2016-05-13T17:32:03.217Z</updated><category term=\"DHuS.Product\" scheme=\"http://schemas.microsoft.com/ado/2007/08/dataservices/scheme\"/><link href=\"Products(\\'9fcbde34-c3d9-4d6d-908b-412397228180\\')\" rel=\"edit\" title=\"Product\"/><link href=\"Products(\\'9fcbde34-c3d9-4d6d-908b-412397228180\\')/$value\" rel=\"edit-media\" type=\"application/octet-stream\"/><link href=\"Products(\\'9fcbde34-c3d9-4d6d-908b-412397228180\\')/Products\" rel=\"http://schemas.microsoft.com/ado/2007/08/dataservices/related/Products\" title=\"Products\" type=\"application/atom+xml;type=feed\"/><link href=\"Products(\\'9fcbde34-c3d9-4d6d-908b-412397228180\\')/Nodes\" rel=\"http://schemas.microsoft.com/ado/2007/08/dataservices/related/Nodes\" title=\"Nodes\" type=\"application/atom+xml;type=feed\"/><link href=\"Products(\\'9fcbde34-c3d9-4d6d-908b-412397228180\\')/Attributes\" rel=\"http://schemas.microsoft.com/ado/2007/08/dataservices/related/Attributes\" title=\"Attributes\" type=\"application/atom+xml;type=feed\"/><link href=\"Products(\\'9fcbde34-c3d9-4d6d-908b-412397228180\\')/Class\" rel=\"http://schemas.microsoft.com/ado/2007/08/dataservices/related/Class\" title=\"Class\" type=\"application/atom+xml;type=entry\"/><content type=\"application/octet-stream\" src=\"Products(\\'9fcbde34-c3d9-4d6d-908b-412397228180\\')/$value\"/><m:properties><d:Id>9fcbde34-c3d9-4d6d-908b-412397228180</d:Id><d:Name>S1A_IW_SLC__1SDV_20141101T165548_20141101T165616_003091_0038AA_558F</d:Name><d:ContentType>application/octet-stream</d:ContentType><d:ContentLength>4222974861</d:ContentLength><d:ChildrenNumber>2</d:ChildrenNumber><d:Value m:null=\"true\"/><d:CreationDate>2016-05-13T17:00:40.560</d:CreationDate><d:IngestionDate>2016-05-13T17:32:03.217</d:IngestionDate><d:EvictionDate m:null=\"true\"/><d:ContentDate m:type=\"DHuS.TimeRange\"><d:Start>2014-11-01T16:55:48.874</d:Start><d:End>2014-11-01T16:56:16.122</d:End></d:ContentDate><d:Checksum m:type=\"DHuS.Checksum\"><d:Algorithm>MD5</d:Algorithm><d:Value>3AF01A4D4386D42EDFF21AE0FDE91EC7</d:Value></d:Checksum><d:ContentGeometry>&lt;gml:Polygon srsName=\"http://www.opengis.net/gml/srs/epsg.xml#4326\" xmlns:gml=\"http://www.opengis.net/gml\">   &lt;gml:outerBoundaryIs>      &lt;gml:LinearRing>         &lt;gml:coordinates>38.113056,13.870169 38.510899,16.742090 36.873707,17.076571 36.474453,14.269353 38.113056,13.870169&lt;/gml:coordinates>      &lt;/gml:LinearRing>   &lt;/gml:outerBoundaryIs>&lt;/gml:Polygon></d:ContentGeometry></m:properties></entry></feed>'"
      ]
     },
     "execution_count": 30,
     "metadata": {},
     "output_type": "execute_result"
    }
   ],
   "source": [
    "r.content"
   ]
  },
  {
   "cell_type": "code",
   "execution_count": 31,
   "metadata": {},
   "outputs": [
    {
     "data": {
      "text/plain": [
       "'<?xml version=\\'1.0\\' encoding=\\'utf-8\\'?><feed xmlns=\"http://www.w3.org/2005/Atom\" xmlns:m=\"http://schemas.microsoft.com/ado/2007/08/dataservices/metadata\" xmlns:d=\"http://schemas.microsoft.com/ado/2007/08/dataservices\" xml:base=\"https://scihub.copernicus.eu/dhus/odata/v1/\"><id>https://scihub.copernicus.eu/dhus/odata/v1/Products</id><title type=\"text\">Products</title><updated>2017-11-22T20:22:46.66Z</updated><author><name/></author><link href=\"Products\" rel=\"self\" title=\"Products\"/><entry><id>https://scihub.copernicus.eu/dhus/odata/v1/Products(\\'9fcbde34-c3d9-4d6d-908b-412397228180\\')</id><title type=\"text\">S1A_IW_SLC__1SDV_20141101T165548_20141101T165616_003091_0038AA_558F</title><updated>2016-05-13T17:32:03.217Z</updated><category term=\"DHuS.Product\" scheme=\"http://schemas.microsoft.com/ado/2007/08/dataservices/scheme\"/><link href=\"Products(\\'9fcbde34-c3d9-4d6d-908b-412397228180\\')\" rel=\"edit\" title=\"Product\"/><link href=\"Products(\\'9fcbde34-c3d9-4d6d-908b-412397228180\\')/$value\" rel=\"edit-media\" type=\"application/octet-stream\"/><link href=\"Products(\\'9fcbde34-c3d9-4d6d-908b-412397228180\\')/Products\" rel=\"http://schemas.microsoft.com/ado/2007/08/dataservices/related/Products\" title=\"Products\" type=\"application/atom+xml;type=feed\"/><link href=\"Products(\\'9fcbde34-c3d9-4d6d-908b-412397228180\\')/Nodes\" rel=\"http://schemas.microsoft.com/ado/2007/08/dataservices/related/Nodes\" title=\"Nodes\" type=\"application/atom+xml;type=feed\"/><link href=\"Products(\\'9fcbde34-c3d9-4d6d-908b-412397228180\\')/Attributes\" rel=\"http://schemas.microsoft.com/ado/2007/08/dataservices/related/Attributes\" title=\"Attributes\" type=\"application/atom+xml;type=feed\"/><link href=\"Products(\\'9fcbde34-c3d9-4d6d-908b-412397228180\\')/Class\" rel=\"http://schemas.microsoft.com/ado/2007/08/dataservices/related/Class\" title=\"Class\" type=\"application/atom+xml;type=entry\"/><content type=\"application/octet-stream\" src=\"Products(\\'9fcbde34-c3d9-4d6d-908b-412397228180\\')/$value\"/><m:properties><d:Id>9fcbde34-c3d9-4d6d-908b-412397228180</d:Id><d:Name>S1A_IW_SLC__1SDV_20141101T165548_20141101T165616_003091_0038AA_558F</d:Name><d:ContentType>application/octet-stream</d:ContentType><d:ContentLength>4222974861</d:ContentLength><d:ChildrenNumber>2</d:ChildrenNumber><d:Value m:null=\"true\"/><d:CreationDate>2016-05-13T17:00:40.560</d:CreationDate><d:IngestionDate>2016-05-13T17:32:03.217</d:IngestionDate><d:EvictionDate m:null=\"true\"/><d:ContentDate m:type=\"DHuS.TimeRange\"><d:Start>2014-11-01T16:55:48.874</d:Start><d:End>2014-11-01T16:56:16.122</d:End></d:ContentDate><d:Checksum m:type=\"DHuS.Checksum\"><d:Algorithm>MD5</d:Algorithm><d:Value>3AF01A4D4386D42EDFF21AE0FDE91EC7</d:Value></d:Checksum><d:ContentGeometry>&lt;gml:Polygon srsName=\"http://www.opengis.net/gml/srs/epsg.xml#4326\" xmlns:gml=\"http://www.opengis.net/gml\">   &lt;gml:outerBoundaryIs>      &lt;gml:LinearRing>         &lt;gml:coordinates>38.113056,13.870169 38.510899,16.742090 36.873707,17.076571 36.474453,14.269353 38.113056,13.870169&lt;/gml:coordinates>      &lt;/gml:LinearRing>   &lt;/gml:outerBoundaryIs>&lt;/gml:Polygon></d:ContentGeometry></m:properties></entry></feed>'"
      ]
     },
     "execution_count": 31,
     "metadata": {},
     "output_type": "execute_result"
    }
   ],
   "source": [
    "r.text"
   ]
  },
  {
   "cell_type": "markdown",
   "metadata": {},
   "source": [
    "# AIS data"
   ]
  },
  {
   "cell_type": "code",
   "execution_count": 1,
   "metadata": {},
   "outputs": [],
   "source": [
    "from ftplib import FTP"
   ]
  },
  {
   "cell_type": "code",
   "execution_count": 2,
   "metadata": {},
   "outputs": [],
   "source": [
    "ftp = FTP('ftp.ais.dk', timeout=60)"
   ]
  },
  {
   "cell_type": "code",
   "execution_count": 3,
   "metadata": {},
   "outputs": [
    {
     "data": {
      "text/plain": [
       "'230-Welcome to AIS.DK\\n230 User logged in.'"
      ]
     },
     "execution_count": 3,
     "metadata": {},
     "output_type": "execute_result"
    }
   ],
   "source": [
    "ftp.login()"
   ]
  },
  {
   "cell_type": "code",
   "execution_count": 4,
   "metadata": {},
   "outputs": [
    {
     "data": {
      "text/plain": [
       "'250 CWD command successful.'"
      ]
     },
     "execution_count": 4,
     "metadata": {},
     "output_type": "execute_result"
    }
   ],
   "source": [
    "ftp.cwd('ais_data')"
   ]
  },
  {
   "cell_type": "code",
   "execution_count": 5,
   "metadata": {},
   "outputs": [
    {
     "name": "stdout",
     "output_type": "stream",
     "text": [
      "01-16-17  12:40PM                 2168 !_README_information_CSV_files.rtf\n",
      "12-04-17  05:27AM           1753617770 aisdk_20171201.csv\n",
      "12-05-17  05:28AM           1771558841 aisdk_20171202.csv\n",
      "12-06-17  05:32AM           1702956890 aisdk_20171203.csv\n",
      "12-07-17  05:32AM           1692511117 aisdk_20171204.csv\n",
      "12-08-17  05:33AM           1676998759 aisdk_20171205.csv\n",
      "12-09-17  05:32AM           1704961679 aisdk_20171206.csv\n",
      "12-10-17  05:32AM           1721373809 aisdk_20171207.csv\n",
      "12-11-17  05:33AM           1715179360 aisdk_20171208.csv\n",
      "12-12-17  05:33AM           1715967502 aisdk_20171209.csv\n",
      "12-13-17  05:32AM           1703841577 aisdk_20171210.csv\n",
      "12-14-17  05:34AM           1774396242 aisdk_20171211.csv\n",
      "12-15-17  05:33AM           1774920839 aisdk_20171212.csv\n",
      "12-16-17  05:33AM           1715839835 aisdk_20171213.csv\n",
      "11-20-17  03:04PM       <DIR>          aspnet_client\n",
      "02-06-17  08:47AM           5193835825 dk_csv_apr2006.zip\n",
      "02-06-17  09:26AM           9889200852 dk_csv_apr2007.zip\n",
      "02-06-17  11:44AM           9010778467 dk_csv_apr2008.zip\n",
      "02-10-17  12:49PM          11753315484 dk_csv_apr2009.zip\n",
      "02-15-17  02:02PM          12599863004 dk_csv_apr2010.zip\n",
      "02-22-17  11:55AM          14805720145 dk_csv_apr2011.zip\n",
      "03-01-17  04:19PM          19802298088 dk_csv_apr2012.zip\n",
      "01-03-17  09:39AM          25171208622 dk_csv_apr2013.zip\n",
      "12-01-16  08:06AM          28570795412 dk_csv_apr2014.zip\n",
      "01-05-17  02:10PM          16324828046 dk_csv_apr2015.zip\n",
      "03-16-17  09:35AM           5006411431 dk_csv_apr2016.rar\n",
      "05-04-17  08:47AM           4698159062 dk_csv_apr2017.rar\n",
      "02-06-17  08:45AM           5661371175 dk_csv_aug2006.zip\n",
      "02-06-17  09:21AM          11920598517 dk_csv_aug2007.zip\n",
      "02-06-17  01:25PM           9952480719 dk_csv_aug2008.zip\n",
      "02-13-17  08:47AM          13160631678 dk_csv_aug2009.zip\n",
      "02-15-17  04:20PM          13864166019 dk_csv_aug2010.zip\n",
      "02-26-17  12:00PM          14646697416 dk_csv_aug2011.zip\n",
      "03-01-17  07:44PM          22586395048 dk_csv_aug2012.zip\n",
      "12-20-16  10:09AM          29728047174 dk_csv_aug2013.zip\n",
      "11-28-16  08:46AM          29175948928 dk_csv_aug2014.zip\n",
      "02-17-17  09:16AM          20239970990 dk_csv_aug2015.zip\n",
      "02-13-17  07:01PM          17933369747 dk_csv_aug2016.zip\n",
      "09-04-17  12:49PM          17699357920 dk_csv_aug2017.zip\n",
      "02-06-17  08:44AM          12743365115 dk_csv_dec2006.zip\n",
      "02-06-17  09:21AM          14411021695 dk_csv_dec2007.zip\n",
      "02-06-17  02:59PM          10243930390 dk_csv_dec2008.zip\n",
      "02-13-17  11:19AM          11787245543 dk_csv_dec2009.zip\n",
      "02-17-17  07:29AM          12853716417 dk_csv_dec2010.zip\n",
      "03-01-17  01:18PM          12890959849 dk_csv_dec2011.zip\n",
      "02-20-17  08:04AM          21970098664 dk_csv_dec2012.zip\n",
      "02-16-17  09:50AM          24501643421 dk_csv_dec2013.zip\n",
      "01-03-17  08:28AM          14580488168 dk_csv_dec2014.zip\n",
      "02-17-17  09:15AM          14912940920 dk_csv_dec2015.zip\n",
      "02-13-17  09:53PM          31280738194 dk_csv_dec2016.zip\n",
      "02-06-17  09:15AM           7130601048 dk_csv_feb2007.zip\n",
      "02-05-17  08:49AM          10947420214 dk_csv_feb2008.zip\n",
      "02-10-17  11:58AM           9764744100 dk_csv_feb2009.zip\n",
      "02-15-17  01:01PM          10199060091 dk_csv_feb2010.zip\n",
      "02-22-17  08:41AM          11361588177 dk_csv_feb2011.zip\n",
      "03-01-17  02:46PM          18123505773 dk_csv_feb2012.zip\n",
      "01-03-17  04:58PM          21370449036 dk_csv_feb2013.zip\n",
      "12-13-16  10:56AM          23752075363 dk_csv_feb2014.zip\n",
      "01-05-17  12:50PM          13807262278 dk_csv_feb2015.zip\n",
      "02-13-17  02:46PM          14423834710 dk_csv_feb2016.zip\n",
      "03-18-17  11:16AM           4237303967 dk_csv_feb2017.rar\n",
      "02-06-17  09:13AM           6781043151 dk_csv_jan2007.zip\n",
      "02-04-17  03:32PM          12084330621 dk_csv_jan2008.zip\n",
      "02-10-17  11:35AM          10055352972 dk_csv_jan2009.zip\n",
      "02-15-17  12:32PM          11444735497 dk_csv_jan2010.zip\n",
      "02-22-17  08:10AM          12870042080 dk_csv_jan2011.zip\n",
      "03-01-17  02:03PM          19537339715 dk_csv_jan2012.zip\n",
      "01-03-17  01:20PM          22652602664 dk_csv_jan2013.zip\n",
      "12-12-16  11:35AM          23716603946 dk_csv_jan2014.zip\n",
      "12-13-16  12:53PM          14629520213 dk_csv_jan2015.zip\n",
      "02-13-17  02:11PM          14978831202 dk_csv_jan2016.zip\n",
      "03-17-17  07:45AM          15620482989 dk_csv_jan2017.zip\n",
      "02-06-17  08:41AM           9455378312 dk_csv_jul2006.zip\n",
      "02-06-17  09:10AM           9698279565 dk_csv_jul2007.zip\n",
      "02-06-17  01:02PM          10852290509 dk_csv_jul2008.zip\n",
      "02-10-17  02:19PM          12558710327 dk_csv_jul2009.zip\n",
      "02-15-17  03:48PM          15128019800 dk_csv_jul2010.zip\n",
      "02-26-17  11:27AM          14937407579 dk_csv_jul2011.zip\n",
      "03-01-17  06:48PM          22335452842 dk_csv_jul2012.zip\n",
      "01-03-17  07:52AM          32067484294 dk_csv_jul2013.zip\n",
      "11-28-16  03:08PM          34510669142 dk_csv_jul2014.zip\n",
      "02-17-17  08:59AM          17802335851 dk_csv_jul2015.zip\n",
      "02-13-17  06:21PM          17937206870 dk_csv_jul2016.zip\n",
      "08-03-17  09:52AM          17175677067 dk_csv_jul2017.zip\n",
      "02-06-17  08:37AM           8636100742 dk_csv_jun2006.zip\n",
      "02-06-17  09:09AM          13761993231 dk_csv_jun2007.zip\n",
      "02-06-17  12:35PM          10207982713 dk_csv_jun2008.zip\n",
      "02-10-17  01:48PM          12266667406 dk_csv_jun2009.zip\n",
      "02-15-17  03:11PM          14463231699 dk_csv_jun2010.zip\n",
      "02-26-17  10:49AM          14873686171 dk_csv_jun2011.zip\n",
      "03-01-17  05:59PM          21810468216 dk_csv_jun2012.zip\n",
      "01-02-17  04:10PM          28130809457 dk_csv_jun2013.zip\n",
      "11-29-16  08:31AM          31278485795 dk_csv_jun2014.zip\n",
      "02-17-17  08:15AM          17036315407 dk_csv_jun2015.zip\n",
      "02-13-17  05:36PM          18324800223 dk_csv_jun2016.zip\n",
      "07-03-17  02:01PM           5050303637 dk_csv_jun2017.rar\n",
      "02-06-17  08:32AM            900340160 dk_csv_mar2006.zip\n",
      "02-06-17  09:05AM           9893234066 dk_csv_mar2007.zip\n",
      "02-06-17  07:35AM           9752880785 dk_csv_mar2008.zip\n",
      "02-10-17  12:21PM          10208363057 dk_csv_mar2009.zip\n",
      "02-15-17  01:31PM          12094126845 dk_csv_mar2010.zip\n",
      "02-22-17  09:18AM          13636159640 dk_csv_mar2011.zip\n",
      "03-01-17  03:36PM          21591877499 dk_csv_mar2012.zip\n",
      "01-04-17  08:28AM          24306805631 dk_csv_mar2013.zip\n",
      "12-13-16  10:00AM          28599420800 dk_csv_mar2014.zip\n",
      "01-05-17  02:56PM          16190561460 dk_csv_mar2015.zip\n",
      "02-13-17  03:27PM          16344420541 dk_csv_mar2016.zip\n",
      "04-04-17  07:04AM           5007251863 dk_csv_mar2017.rar\n",
      "02-06-17  08:36AM           8515012837 dk_csv_may2006.zip\n",
      "02-06-17  08:59AM          13603028249 dk_csv_may2007.zip\n",
      "02-06-17  12:09PM          10759309790 dk_csv_may2008.zip\n",
      "02-10-17  01:19PM          12854789302 dk_csv_may2009.zip\n",
      "02-15-17  02:37PM          13347815717 dk_csv_may2010.zip\n",
      "02-26-17  10:07AM          14846532856 dk_csv_may2011.zip\n",
      "03-01-17  05:08PM          22245165497 dk_csv_may2012.zip\n",
      "01-02-17  02:25PM          27799012528 dk_csv_may2013.zip\n",
      "12-01-16  02:28PM          28378225550 dk_csv_may2014.zip\n",
      "01-05-17  11:41AM          16451751486 dk_csv_may2015.zip\n",
      "02-13-17  04:51PM          18839604099 dk_csv_may2016.zip\n",
      "06-29-17  12:15PM           5233783673 dk_csv_may2017.rar\n",
      "02-06-17  08:31AM           5001993971 dk_csv_nov2006.zip\n",
      "02-06-17  09:01AM          15363649023 dk_csv_nov2007.zip\n",
      "02-06-17  02:34PM           9820844851 dk_csv_nov2008.zip\n",
      "02-13-17  10:41AM          11676007215 dk_csv_nov2009.zip\n",
      "02-16-17  09:25AM          12438824432 dk_csv_nov2010.zip\n",
      "03-01-17  12:46PM          13559993889 dk_csv_nov2011.zip\n",
      "03-10-17  01:28PM          22890559692 dk_csv_nov2012.zip\n",
      "12-19-16  03:22PM          24728026454 dk_csv_nov2013.zip\n",
      "12-14-16  06:34AM          15133247061 dk_csv_nov2014.zip\n",
      "02-17-17  09:23AM          14992538220 dk_csv_nov2015.zip\n",
      "02-13-17  09:04PM          14911507652 dk_csv_nov2016.zip\n",
      "12-05-17  04:08PM          15611527353 dk_csv_nov2017.zip\n",
      "02-06-17  08:31AM           6547712376 dk_csv_oct2006.zip\n",
      "02-06-17  08:51AM           7215550018 dk_csv_oct2007.zip\n",
      "02-06-17  02:11PM           8571620964 dk_csv_oct2008.zip\n",
      "02-13-17  10:02AM          11995128438 dk_csv_oct2009.zip\n",
      "02-16-17  08:52AM          13444762991 dk_csv_oct2010.zip\n",
      "02-26-17  01:05PM          13708456814 dk_csv_oct2011.zip\n",
      "03-10-17  12:26PM          21507110663 dk_csv_oct2012.zip\n",
      "12-19-16  01:28PM          26059711264 dk_csv_oct2013.zip\n",
      "11-24-16  07:55AM          15813055715 dk_csv_oct2014.zip\n",
      "02-17-17  09:28AM          16372248644 dk_csv_oct2015.zip\n",
      "02-13-17  08:21PM          16004309006 dk_csv_oct2016.zip\n",
      "11-08-17  02:35PM          16282049221 dk_csv_oct2017.zip\n",
      "02-06-17  08:29AM           3287790777 dk_csv_sep2006.zip\n",
      "02-06-17  08:51AM          10846247856 dk_csv_sep2007.zip\n",
      "02-06-17  01:50PM           9307399420 dk_csv_sep2008.zip\n",
      "02-13-17  09:22AM          11399170507 dk_csv_sep2009.zip\n",
      "02-15-17  04:53PM          12941059487 dk_csv_sep2010.zip\n",
      "02-26-17  12:33PM          13992458615 dk_csv_sep2011.zip\n",
      "03-02-17  07:38AM          20605962381 dk_csv_sep2012.zip\n",
      "12-19-16  10:19AM          26498640030 dk_csv_sep2013.zip\n",
      "11-25-16  08:33AM          28360902272 dk_csv_sep2014.zip\n",
      "02-17-17  09:34AM          20524159028 dk_csv_sep2015.zip\n",
      "02-13-17  07:45PM          18077392356 dk_csv_sep2016.zip\n",
      "10-09-17  10:03AM          16499401234 dk_csv_sep2017.zip\n"
     ]
    },
    {
     "data": {
      "text/plain": [
       "'226 Transfer complete.'"
      ]
     },
     "execution_count": 5,
     "metadata": {},
     "output_type": "execute_result"
    }
   ],
   "source": [
    "ftp.retrlines('LIST')"
   ]
  },
  {
   "cell_type": "code",
   "execution_count": 6,
   "metadata": {},
   "outputs": [
    {
     "ename": "timeout",
     "evalue": "timed out",
     "output_type": "error",
     "traceback": [
      "\u001b[0;31m---------------------------------------------------------------------------\u001b[0m",
      "\u001b[0;31mtimeout\u001b[0m                                   Traceback (most recent call last)",
      "\u001b[0;32m<ipython-input-6-37d8e532e05c>\u001b[0m in \u001b[0;36m<module>\u001b[0;34m()\u001b[0m\n\u001b[0;32m----> 1\u001b[0;31m \u001b[0mftp\u001b[0m\u001b[0;34m.\u001b[0m\u001b[0mretrbinary\u001b[0m\u001b[0;34m(\u001b[0m\u001b[0;34m'RETR dk_csv_nov2017.zip'\u001b[0m\u001b[0;34m,\u001b[0m \u001b[0mopen\u001b[0m\u001b[0;34m(\u001b[0m\u001b[0;34m'../data/ais/dk_csv_nov2017.zip'\u001b[0m\u001b[0;34m,\u001b[0m \u001b[0;34m'wb'\u001b[0m\u001b[0;34m)\u001b[0m\u001b[0;34m.\u001b[0m\u001b[0mwrite\u001b[0m\u001b[0;34m)\u001b[0m\u001b[0;34m\u001b[0m\u001b[0m\n\u001b[0m",
      "\u001b[0;32m/usr/local/Cellar/python3/3.6.2/Frameworks/Python.framework/Versions/3.6/lib/python3.6/ftplib.py\u001b[0m in \u001b[0;36mretrbinary\u001b[0;34m(self, cmd, callback, blocksize, rest)\u001b[0m\n\u001b[1;32m    440\u001b[0m         \u001b[0;32mwith\u001b[0m \u001b[0mself\u001b[0m\u001b[0;34m.\u001b[0m\u001b[0mtransfercmd\u001b[0m\u001b[0;34m(\u001b[0m\u001b[0mcmd\u001b[0m\u001b[0;34m,\u001b[0m \u001b[0mrest\u001b[0m\u001b[0;34m)\u001b[0m \u001b[0;32mas\u001b[0m \u001b[0mconn\u001b[0m\u001b[0;34m:\u001b[0m\u001b[0;34m\u001b[0m\u001b[0m\n\u001b[1;32m    441\u001b[0m             \u001b[0;32mwhile\u001b[0m \u001b[0;36m1\u001b[0m\u001b[0;34m:\u001b[0m\u001b[0;34m\u001b[0m\u001b[0m\n\u001b[0;32m--> 442\u001b[0;31m                 \u001b[0mdata\u001b[0m \u001b[0;34m=\u001b[0m \u001b[0mconn\u001b[0m\u001b[0;34m.\u001b[0m\u001b[0mrecv\u001b[0m\u001b[0;34m(\u001b[0m\u001b[0mblocksize\u001b[0m\u001b[0;34m)\u001b[0m\u001b[0;34m\u001b[0m\u001b[0m\n\u001b[0m\u001b[1;32m    443\u001b[0m                 \u001b[0;32mif\u001b[0m \u001b[0;32mnot\u001b[0m \u001b[0mdata\u001b[0m\u001b[0;34m:\u001b[0m\u001b[0;34m\u001b[0m\u001b[0m\n\u001b[1;32m    444\u001b[0m                     \u001b[0;32mbreak\u001b[0m\u001b[0;34m\u001b[0m\u001b[0m\n",
      "\u001b[0;31mtimeout\u001b[0m: timed out"
     ]
    }
   ],
   "source": [
    "ftp.retrbinary('RETR dk_csv_nov2017.zip', open('../data/ais/dk_csv_nov2017.zip', 'wb').write)"
   ]
  },
  {
   "cell_type": "code",
   "execution_count": 28,
   "metadata": {},
   "outputs": [],
   "source": [
    "import pandas as pd"
   ]
  },
  {
   "cell_type": "code",
   "execution_count": 29,
   "metadata": {},
   "outputs": [],
   "source": [
    "ais_data = pd.read_csv('../data/ais/aisdk_20171101.csv')"
   ]
  },
  {
   "cell_type": "code",
   "execution_count": 30,
   "metadata": {},
   "outputs": [
    {
     "data": {
      "text/html": [
       "<div>\n",
       "<style scoped>\n",
       "    .dataframe tbody tr th:only-of-type {\n",
       "        vertical-align: middle;\n",
       "    }\n",
       "\n",
       "    .dataframe tbody tr th {\n",
       "        vertical-align: top;\n",
       "    }\n",
       "\n",
       "    .dataframe thead th {\n",
       "        text-align: right;\n",
       "    }\n",
       "</style>\n",
       "<table border=\"1\" class=\"dataframe\">\n",
       "  <thead>\n",
       "    <tr style=\"text-align: right;\">\n",
       "      <th></th>\n",
       "      <th># Timestamp</th>\n",
       "      <th>Type of mobile</th>\n",
       "      <th>MMSI</th>\n",
       "      <th>Latitude</th>\n",
       "      <th>Longitude</th>\n",
       "      <th>Navigational status</th>\n",
       "      <th>ROT</th>\n",
       "      <th>SOG</th>\n",
       "      <th>COG</th>\n",
       "      <th>Heading</th>\n",
       "      <th>...</th>\n",
       "      <th>Name</th>\n",
       "      <th>Ship type</th>\n",
       "      <th>Cargo type</th>\n",
       "      <th>Width</th>\n",
       "      <th>Length</th>\n",
       "      <th>Type of position fixing device</th>\n",
       "      <th>Draught</th>\n",
       "      <th>Destination</th>\n",
       "      <th>ETA</th>\n",
       "      <th>Data source type</th>\n",
       "    </tr>\n",
       "  </thead>\n",
       "  <tbody>\n",
       "    <tr>\n",
       "      <th>0</th>\n",
       "      <td>01/11/2017 00:00:00</td>\n",
       "      <td>Base Station</td>\n",
       "      <td>2194005</td>\n",
       "      <td>56.344267</td>\n",
       "      <td>4.272000</td>\n",
       "      <td>Unknown value</td>\n",
       "      <td>NaN</td>\n",
       "      <td>NaN</td>\n",
       "      <td>NaN</td>\n",
       "      <td>NaN</td>\n",
       "      <td>...</td>\n",
       "      <td>NaN</td>\n",
       "      <td>Undefined</td>\n",
       "      <td>NaN</td>\n",
       "      <td>NaN</td>\n",
       "      <td>NaN</td>\n",
       "      <td>Surveyed</td>\n",
       "      <td>NaN</td>\n",
       "      <td>NaN</td>\n",
       "      <td>NaN</td>\n",
       "      <td>AIS</td>\n",
       "    </tr>\n",
       "    <tr>\n",
       "      <th>1</th>\n",
       "      <td>01/11/2017 00:00:00</td>\n",
       "      <td>Class A</td>\n",
       "      <td>247697000</td>\n",
       "      <td>54.527660</td>\n",
       "      <td>12.201082</td>\n",
       "      <td>Under way using engine</td>\n",
       "      <td>5.4</td>\n",
       "      <td>10.2</td>\n",
       "      <td>192.1</td>\n",
       "      <td>189.0</td>\n",
       "      <td>...</td>\n",
       "      <td>NaN</td>\n",
       "      <td>Undefined</td>\n",
       "      <td>NaN</td>\n",
       "      <td>NaN</td>\n",
       "      <td>NaN</td>\n",
       "      <td>Undefined</td>\n",
       "      <td>NaN</td>\n",
       "      <td>NaN</td>\n",
       "      <td>NaN</td>\n",
       "      <td>AIS</td>\n",
       "    </tr>\n",
       "    <tr>\n",
       "      <th>2</th>\n",
       "      <td>01/11/2017 00:00:00</td>\n",
       "      <td>Class A</td>\n",
       "      <td>219008746</td>\n",
       "      <td>56.609172</td>\n",
       "      <td>10.300447</td>\n",
       "      <td>Restricted maneuverability</td>\n",
       "      <td>0.0</td>\n",
       "      <td>0.1</td>\n",
       "      <td>313.9</td>\n",
       "      <td>153.0</td>\n",
       "      <td>...</td>\n",
       "      <td>NaN</td>\n",
       "      <td>Undefined</td>\n",
       "      <td>NaN</td>\n",
       "      <td>NaN</td>\n",
       "      <td>NaN</td>\n",
       "      <td>Undefined</td>\n",
       "      <td>NaN</td>\n",
       "      <td>NaN</td>\n",
       "      <td>NaN</td>\n",
       "      <td>AIS</td>\n",
       "    </tr>\n",
       "    <tr>\n",
       "      <th>3</th>\n",
       "      <td>01/11/2017 00:00:00</td>\n",
       "      <td>Base Station</td>\n",
       "      <td>2194006</td>\n",
       "      <td>55.538917</td>\n",
       "      <td>5.033400</td>\n",
       "      <td>Unknown value</td>\n",
       "      <td>NaN</td>\n",
       "      <td>NaN</td>\n",
       "      <td>NaN</td>\n",
       "      <td>NaN</td>\n",
       "      <td>...</td>\n",
       "      <td>NaN</td>\n",
       "      <td>Undefined</td>\n",
       "      <td>NaN</td>\n",
       "      <td>NaN</td>\n",
       "      <td>NaN</td>\n",
       "      <td>Surveyed</td>\n",
       "      <td>NaN</td>\n",
       "      <td>NaN</td>\n",
       "      <td>NaN</td>\n",
       "      <td>AIS</td>\n",
       "    </tr>\n",
       "    <tr>\n",
       "      <th>4</th>\n",
       "      <td>01/11/2017 00:00:00</td>\n",
       "      <td>Class A</td>\n",
       "      <td>235114048</td>\n",
       "      <td>54.805577</td>\n",
       "      <td>14.043297</td>\n",
       "      <td>Under way using engine</td>\n",
       "      <td>NaN</td>\n",
       "      <td>2.1</td>\n",
       "      <td>271.2</td>\n",
       "      <td>NaN</td>\n",
       "      <td>...</td>\n",
       "      <td>NaN</td>\n",
       "      <td>Undefined</td>\n",
       "      <td>NaN</td>\n",
       "      <td>NaN</td>\n",
       "      <td>NaN</td>\n",
       "      <td>Undefined</td>\n",
       "      <td>NaN</td>\n",
       "      <td>NaN</td>\n",
       "      <td>NaN</td>\n",
       "      <td>AIS</td>\n",
       "    </tr>\n",
       "  </tbody>\n",
       "</table>\n",
       "<p>5 rows × 22 columns</p>\n",
       "</div>"
      ],
      "text/plain": [
       "           # Timestamp Type of mobile       MMSI   Latitude  Longitude  \\\n",
       "0  01/11/2017 00:00:00   Base Station    2194005  56.344267   4.272000   \n",
       "1  01/11/2017 00:00:00        Class A  247697000  54.527660  12.201082   \n",
       "2  01/11/2017 00:00:00        Class A  219008746  56.609172  10.300447   \n",
       "3  01/11/2017 00:00:00   Base Station    2194006  55.538917   5.033400   \n",
       "4  01/11/2017 00:00:00        Class A  235114048  54.805577  14.043297   \n",
       "\n",
       "          Navigational status  ROT   SOG    COG  Heading       ...         \\\n",
       "0               Unknown value  NaN   NaN    NaN      NaN       ...          \n",
       "1      Under way using engine  5.4  10.2  192.1    189.0       ...          \n",
       "2  Restricted maneuverability  0.0   0.1  313.9    153.0       ...          \n",
       "3               Unknown value  NaN   NaN    NaN      NaN       ...          \n",
       "4      Under way using engine  NaN   2.1  271.2      NaN       ...          \n",
       "\n",
       "  Name  Ship type Cargo type Width Length  Type of position fixing device  \\\n",
       "0  NaN  Undefined        NaN   NaN    NaN                        Surveyed   \n",
       "1  NaN  Undefined        NaN   NaN    NaN                       Undefined   \n",
       "2  NaN  Undefined        NaN   NaN    NaN                       Undefined   \n",
       "3  NaN  Undefined        NaN   NaN    NaN                        Surveyed   \n",
       "4  NaN  Undefined        NaN   NaN    NaN                       Undefined   \n",
       "\n",
       "   Draught Destination  ETA Data source type  \n",
       "0      NaN         NaN  NaN              AIS  \n",
       "1      NaN         NaN  NaN              AIS  \n",
       "2      NaN         NaN  NaN              AIS  \n",
       "3      NaN         NaN  NaN              AIS  \n",
       "4      NaN         NaN  NaN              AIS  \n",
       "\n",
       "[5 rows x 22 columns]"
      ]
     },
     "execution_count": 30,
     "metadata": {},
     "output_type": "execute_result"
    }
   ],
   "source": [
    "ais_data.head()"
   ]
  },
  {
   "cell_type": "markdown",
   "metadata": {},
   "source": [
    "# SNAP API"
   ]
  },
  {
   "cell_type": "code",
   "execution_count": null,
   "metadata": {},
   "outputs": [],
   "source": []
  }
 ],
 "metadata": {
  "kernelspec": {
   "display_name": "Python 3",
   "language": "python",
   "name": "python3"
  },
  "language_info": {
   "codemirror_mode": {
    "name": "ipython",
    "version": 3
   },
   "file_extension": ".py",
   "mimetype": "text/x-python",
   "name": "python",
   "nbconvert_exporter": "python",
   "pygments_lexer": "ipython3",
   "version": "3.6.2"
  }
 },
 "nbformat": 4,
 "nbformat_minor": 2
}
